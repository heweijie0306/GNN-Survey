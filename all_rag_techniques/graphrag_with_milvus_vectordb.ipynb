{
  "cells": [
    {
      "cell_type": "markdown",
      "metadata": {
        "collapsed": false,
        "jupyter": {
          "outputs_hidden": false
        },
        "id": "JOOejmGbOcVP"
      },
      "source": [
        "[![Open in Colab](https://colab.research.google.com/assets/colab-badge.svg)](https://colab.research.google.com/github/NirDiamant/RAG_Techniques/blob/main/all_rag_techniques/graphrag_with_milvus_vectordb.ipynb)"
      ]
    },
    {
      "cell_type": "markdown",
      "metadata": {
        "collapsed": false,
        "id": "tcYzJ3lEOcVR"
      },
      "source": [
        "# Graph RAG with Milvus Vector Database\n",
        "\n",
        "## Overview\n",
        "\n",
        "### What You'll Learn\n",
        "This notebook demonstrates an innovative approach to **Graph RAG (Retrieval-Augmented Generation)** that combines the power of knowledge graphs with vector databases to dramatically improve question-answering performance, especially for complex multi-hop queries. By the end of this tutorial, you'll understand how to build a Graph RAG system that can answer questions requiring multiple logical steps and relationship traversals.\n",
        "\n",
        "### The Problem: Limitations of Traditional RAG\n",
        "Traditional RAG systems, while powerful, struggle with:\n",
        "- **Multi-hop questions**: Queries requiring multiple logical steps (e.g., \"What contribution did the son of Euler's teacher make?\")\n",
        "- **Complex entity relationships**: Understanding how different entities connect and relate to each other\n",
        "- **Context fragmentation**: Important relationships may be scattered across different text passages\n",
        "- **Semantic gaps**: Simple similarity search may miss logically relevant but semantically distant information\n",
        "\n",
        "### The Solution: Graph RAG with Vector Database\n",
        "This notebook presents a **unified approach** that achieves Graph RAG capabilities using **only a vector database** (Milvus), eliminating the need for separate graph databases while maintaining superior performance. Here's what makes this approach special:\n",
        "\n",
        "**Key Innovation**: Instead of storing explicit graph structures, we embed entities and relationships as vectors and use intelligent retrieval and expansion techniques to reconstruct graph-like reasoning paths.\n",
        "\n",
        "### Key Benefits\n",
        "1. **Simplified Architecture**: Single vector database instead of vector DB + graph DB combination\n",
        "2. **Superior Multi-hop Performance**: Handles complex queries requiring multiple relationship traversals\n",
        "3. **Scalable**: Leverages Milvus's distributed architecture for billion-scale deployments\n",
        "4. **Cost-effective**: Reduces infrastructure complexity and operational overhead\n",
        "5. **Flexible**: Works with any text corpus - just extract entities and relationships\n",
        "\n",
        "### Methodology Overview\n",
        "Our approach consists of four main stages:\n",
        "\n",
        "1. **Offline Data Preparation**\n",
        "   - Extract entities and relationships (triplets) from your text corpus\n",
        "   - Create three vector collections: entities, relationships, and passages\n",
        "   - Build adjacency mappings between entities and relationships\n",
        "\n",
        "2. **Query-time Retrieval**\n",
        "   - Retrieve similar entities and relationships using vector similarity search\n",
        "   - Use Named Entity Recognition (NER) to identify query entities\n",
        "\n",
        "3. **Subgraph Expansion**\n",
        "   - Expand retrieved entities/relationships to their neighborhood using adjacency matrices\n",
        "   - Support multi-degree expansion (1-hop, 2-hop neighbors)\n",
        "   - Merge results from both entity and relationship expansion paths\n",
        "\n",
        "4. **LLM Reranking**\n",
        "   - Use large language models to intelligently filter and rank candidate relationships\n",
        "   - Apply Chain-of-Thought reasoning to select most relevant relationships\n",
        "   - Return final passages for answer generation\n",
        "\n",
        "### Architecture Diagram\n",
        "The following diagram illustrates the complete workflow:\n",
        "\n",
        "![](https://github.com/NirDiamant/RAG_Techniques/blob/main/images/graph_rag_with_milvus_1.png?raw=1)\n",
        "\n",
        "**Why This Works**: By representing both entities and relationships as vectors, we can leverage semantic similarity for initial retrieval, then use graph-theoretical expansion to discover indirect relationships, and finally apply LLM reasoning to filter for relevance. This creates a \"best of both worlds\" system that combines semantic search, graph traversal, and intelligent reasoning.\n",
        "\n",
        "---\n",
        "\n",
        "## Technical Implementation\n",
        "\n",
        "In this section, we'll implement the Graph RAG system described in our methodology overview. The implementation follows our four-stage approach: data preparation, vector storage, query processing, and intelligent reranking.\n",
        "\n",
        "## Prerequisites\n",
        "\n",
        "To complete this demo, you need a vector database. You can get a fully-managed Milvus vector database for free by [signing up Zilliz Cloud](https://cloud.zilliz.com/signup?utm_source=github&utm_medium=referral&utm_campaign=Nir-250512). Milvus is an open-source vector database that provides high-performance vector similarity search."
      ]
    },
    {
      "cell_type": "markdown",
      "metadata": {
        "id": "UTdQOWE7OcVR"
      },
      "source": [
        "Install the following dependencies:"
      ]
    },
    {
      "cell_type": "code",
      "execution_count": null,
      "metadata": {
        "jupyter": {
          "outputs_hidden": false
        },
        "pycharm": {
          "name": "#%%\n"
        },
        "id": "Y9soAe59OcVR"
      },
      "outputs": [],
      "source": [
        "! pip install --upgrade --quiet pymilvus numpy scipy langchain langchain-core langchain-openai tqdm"
      ]
    },
    {
      "cell_type": "markdown",
      "metadata": {
        "collapsed": false,
        "jupyter": {
          "outputs_hidden": false
        },
        "id": "osWsc9bSOcVS"
      },
      "source": [
        "> If you are using Google Colab, to enable dependencies just installed, you may need to **restart the runtime** (click on the \"Runtime\" menu at the top of the screen, and select \"Restart session\" from the dropdown menu).\n"
      ]
    },
    {
      "cell_type": "markdown",
      "metadata": {
        "collapsed": false,
        "jupyter": {
          "outputs_hidden": false
        },
        "id": "cpb9sUSdOcVS"
      },
      "source": [
        "We will use the models from OpenAI. You need to prepare the [`OPENAI_API_KEY`](https://platform.openai.com/docs/quickstart) as an environment variable."
      ]
    },
    {
      "cell_type": "code",
      "execution_count": null,
      "metadata": {
        "jupyter": {
          "outputs_hidden": false
        },
        "pycharm": {
          "name": "#%%\n"
        },
        "id": "MFm6mk-VOcVS"
      },
      "outputs": [],
      "source": [
        "import os\n",
        "\n",
        "os.environ[\"OPENAI_API_KEY\"] = \"sk-***********\""
      ]
    },
    {
      "cell_type": "markdown",
      "metadata": {
        "collapsed": false,
        "id": "IqruiEwoOcVT"
      },
      "source": [
        "Import the necessary libraries and dependencies."
      ]
    },
    {
      "cell_type": "code",
      "execution_count": null,
      "metadata": {
        "id": "-B5FkK9mOcVT"
      },
      "outputs": [],
      "source": [
        "import numpy as np\n",
        "\n",
        "from collections import defaultdict\n",
        "from scipy.sparse import csr_matrix\n",
        "from pymilvus import MilvusClient\n",
        "from langchain_core.messages import AIMessage, HumanMessage\n",
        "from langchain_core.prompts import ChatPromptTemplate, HumanMessagePromptTemplate\n",
        "from langchain_core.output_parsers import StrOutputParser, JsonOutputParser\n",
        "from langchain_openai import ChatOpenAI, OpenAIEmbeddings\n",
        "from tqdm import tqdm"
      ]
    },
    {
      "cell_type": "markdown",
      "metadata": {
        "collapsed": false,
        "id": "uQioZQ-wOcVT"
      },
      "source": [
        "Find your Public Endpoint and Token (i.e., API Key) on the Zilliz Cloud page."
      ]
    },
    {
      "cell_type": "markdown",
      "metadata": {
        "id": "LkNDSWJ0OcVT"
      },
      "source": [
        "![](https://github.com/NirDiamant/RAG_Techniques/blob/main/images/zilliz_interface.png?raw=1)"
      ]
    },
    {
      "cell_type": "code",
      "execution_count": null,
      "metadata": {
        "jupyter": {
          "outputs_hidden": false
        },
        "pycharm": {
          "name": "#%%\n"
        },
        "id": "l_cbhQV-OcVT"
      },
      "outputs": [],
      "source": [
        "# The `uri` and `token` correspond to the Public Endpoint and Token of your Zilliz Cloud (fully-managed Milvus) cluster.\n",
        "milvus_client = MilvusClient(\n",
        "    uri=\"YOUR_ZILLIZ_PUBLIC_ENDPOINT\",\n",
        "    token=\"YOUR_ZILLIZ_TOKEN\"\n",
        ")\n",
        "\n",
        "llm = ChatOpenAI(\n",
        "    model=\"gpt-4o\",\n",
        "    temperature=0,\n",
        ")\n",
        "embedding_model = OpenAIEmbeddings(model=\"text-embedding-3-small\")"
      ]
    },
    {
      "cell_type": "markdown",
      "metadata": {
        "collapsed": false,
        "id": "zOJnpoEdOcVT"
      },
      "source": [
        "## Offline Data Loading\n",
        "\n",
        "### Understanding the Data Model\n",
        "\n",
        "Before diving into the implementation, it's crucial to understand how we structure our data to enable graph-like reasoning with vectors. Our approach transforms traditional text documents into three interconnected components:\n",
        "\n",
        "1. **Entities**: The \"nodes\" of our conceptual graph - people, places, concepts, etc.\n",
        "2. **Relationships**: The \"edges\" connecting entities - these are full triplets (subject-predicate-object)\n",
        "3. **Passages**: The original text documents that provide context and detailed information\n",
        "\n",
        "**Why This Structure Works**: By separating entities and relationships into distinct vector collections, we can perform targeted searches for different aspects of a query. When a user asks \"What contribution did the son of Euler's teacher make?\", we can:\n",
        "- Find entities related to \"Euler\"\n",
        "- Find relationships that connect teacher-student and parent-child concepts\n",
        "- Expand the graph to discover indirect connections\n",
        "- Retrieve the most relevant passages for final answer generation\n",
        "\n",
        "### Data Preparation\n",
        "\n",
        "We will use a nano dataset which introduce the relationship between Bernoulli family and Euler to demonstrate as an example. The nano dataset contains 4 passages and a set of corresponding triplets, where each triplet contains a subject, a predicate, and an object.\n",
        "\n",
        "**Triplet Structure**: Each relationship is represented as a triplet [Subject, Predicate, Object]. For example:\n",
        "- `[\"Jakob Bernoulli\", \"was the older brother of\", \"Johann Bernoulli\"]` captures a family relationship\n",
        "- `[\"Johann Bernoulli\", \"was a student of\", \"Leonhard Euler\"]` captures an educational relationship\n",
        "\n",
        "In practice, you can use any approach to extract the triplets from your own custom corpus. Common methods include:\n",
        "- **Named Entity Recognition (NER)** + **Relation Extraction** models\n",
        "- **Open Information Extraction** systems like OpenIE\n",
        "- **Large Language Models** with structured prompting\n",
        "- **Manual annotation** for high-precision domains"
      ]
    },
    {
      "cell_type": "code",
      "execution_count": null,
      "metadata": {
        "jupyter": {
          "outputs_hidden": false
        },
        "pycharm": {
          "name": "#%%\n"
        },
        "id": "WISXxHIcOcVU"
      },
      "outputs": [],
      "source": [
        "nano_dataset = [\n",
        "    {\n",
        "        \"passage\": \"Jakob Bernoulli (1654–1705): Jakob was one of the earliest members of the Bernoulli family to gain prominence in mathematics. He made significant contributions to calculus, particularly in the development of the theory of probability. He is known for the Bernoulli numbers and the Bernoulli theorem, a precursor to the law of large numbers. He was the older brother of Johann Bernoulli, another influential mathematician, and the two had a complex relationship that involved both collaboration and rivalry.\",\n",
        "        \"triplets\": [\n",
        "            [\"Jakob Bernoulli\", \"made significant contributions to\", \"calculus\"],\n",
        "            [\n",
        "                \"Jakob Bernoulli\",\n",
        "                \"made significant contributions to\",\n",
        "                \"the theory of probability\",\n",
        "            ],\n",
        "            [\"Jakob Bernoulli\", \"is known for\", \"the Bernoulli numbers\"],\n",
        "            [\"Jakob Bernoulli\", \"is known for\", \"the Bernoulli theorem\"],\n",
        "            [\"The Bernoulli theorem\", \"is a precursor to\", \"the law of large numbers\"],\n",
        "            [\"Jakob Bernoulli\", \"was the older brother of\", \"Johann Bernoulli\"],\n",
        "        ],\n",
        "    },\n",
        "    {\n",
        "        \"passage\": \"Johann Bernoulli (1667–1748): Johann, Jakob’s younger brother, was also a major figure in the development of calculus. He worked on infinitesimal calculus and was instrumental in spreading the ideas of Leibniz across Europe. Johann also contributed to the calculus of variations and was known for his work on the brachistochrone problem, which is the curve of fastest descent between two points.\",\n",
        "        \"triplets\": [\n",
        "            [\n",
        "                \"Johann Bernoulli\",\n",
        "                \"was a major figure of\",\n",
        "                \"the development of calculus\",\n",
        "            ],\n",
        "            [\"Johann Bernoulli\", \"was\", \"Jakob's younger brother\"],\n",
        "            [\"Johann Bernoulli\", \"worked on\", \"infinitesimal calculus\"],\n",
        "            [\"Johann Bernoulli\", \"was instrumental in spreading\", \"Leibniz's ideas\"],\n",
        "            [\"Johann Bernoulli\", \"contributed to\", \"the calculus of variations\"],\n",
        "            [\"Johann Bernoulli\", \"was known for\", \"the brachistochrone problem\"],\n",
        "        ],\n",
        "    },\n",
        "    {\n",
        "        \"passage\": \"Daniel Bernoulli (1700–1782): The son of Johann Bernoulli, Daniel made major contributions to fluid dynamics, probability, and statistics. He is most famous for Bernoulli’s principle, which describes the behavior of fluid flow and is fundamental to the understanding of aerodynamics.\",\n",
        "        \"triplets\": [\n",
        "            [\"Daniel Bernoulli\", \"was the son of\", \"Johann Bernoulli\"],\n",
        "            [\"Daniel Bernoulli\", \"made major contributions to\", \"fluid dynamics\"],\n",
        "            [\"Daniel Bernoulli\", \"made major contributions to\", \"probability\"],\n",
        "            [\"Daniel Bernoulli\", \"made major contributions to\", \"statistics\"],\n",
        "            [\"Daniel Bernoulli\", \"is most famous for\", \"Bernoulli’s principle\"],\n",
        "            [\n",
        "                \"Bernoulli’s principle\",\n",
        "                \"is fundamental to\",\n",
        "                \"the understanding of aerodynamics\",\n",
        "            ],\n",
        "        ],\n",
        "    },\n",
        "    {\n",
        "        \"passage\": \"Leonhard Euler (1707–1783) was one of the greatest mathematicians of all time, and his relationship with the Bernoulli family was significant. Euler was born in Basel and was a student of Johann Bernoulli, who recognized his exceptional talent and mentored him in mathematics. Johann Bernoulli’s influence on Euler was profound, and Euler later expanded upon many of the ideas and methods he learned from the Bernoullis.\",\n",
        "        \"triplets\": [\n",
        "            [\n",
        "                \"Leonhard Euler\",\n",
        "                \"had a significant relationship with\",\n",
        "                \"the Bernoulli family\",\n",
        "            ],\n",
        "            [\"leonhard Euler\", \"was born in\", \"Basel\"],\n",
        "            [\"Leonhard Euler\", \"was a student of\", \"Johann Bernoulli\"],\n",
        "            [\"Johann Bernoulli's influence\", \"was profound on\", \"Euler\"],\n",
        "        ],\n",
        "    },\n",
        "]"
      ]
    },
    {
      "cell_type": "markdown",
      "metadata": {
        "collapsed": false,
        "id": "Vk-_JoFOOcVU"
      },
      "source": [
        "We construct the entities and relations as follows:\n",
        "- The entity is the subject or object in the triplet, so we directly extract them from the triplets.\n",
        "- Here we construct the concept of relationship by directly concatenating the subject, predicate, and object with a space in between.\n",
        "\n",
        "We also prepare a dict to map entity id to relation id, and another dict to map relation id to passage id for later use.\n",
        "\n",
        "### Building the Knowledge Graph Structure\n",
        "\n",
        "The next step transforms our triplets into a searchable vector format while maintaining the graph connectivity information. This process involves several key decisions:\n",
        "\n",
        "**Entity Extraction Strategy**: We extract unique entities by collecting all subjects and objects from our triplets. This ensures we capture every entity mentioned in any relationship, creating comprehensive coverage of our knowledge domain.\n",
        "\n",
        "**Relationship Representation**: Rather than storing relationships as separate subject-predicate-object components, we concatenate them into natural language sentences. For example, `[\"Jakob Bernoulli\", \"was the older brother of\", \"Johann Bernoulli\"]` becomes `\"Jakob Bernoulli was the older brother of Johann Bernoulli\"`. This approach offers several advantages:\n",
        "- **Semantic richness**: The full sentence provides more context for vector embeddings\n",
        "- **Natural language compatibility**: LLMs can easily understand and reason about complete sentences\n",
        "- **Reduced complexity**: No need to manage separate predicate vocabularies\n",
        "\n",
        "**Adjacency Mapping Construction**: We build two critical mapping structures:\n",
        "1. **`entityid_2_relationids`**: Maps each entity to all relationships it participates in (enables entity-to-relationship expansion)\n",
        "2. **`relationid_2_passageids`**: Maps each relationship to the passages where it appears (enables relationship-to-passage retrieval)\n",
        "\n",
        "These mappings are essential for the subgraph expansion process, allowing us to efficiently traverse the conceptual graph during query time."
      ]
    },
    {
      "cell_type": "code",
      "execution_count": null,
      "metadata": {
        "jupyter": {
          "outputs_hidden": false
        },
        "pycharm": {
          "name": "#%%\n"
        },
        "id": "y3juCNkoOcVU"
      },
      "outputs": [],
      "source": [
        "entityid_2_relationids = defaultdict(list)\n",
        "relationid_2_passageids = defaultdict(list)\n",
        "\n",
        "entities = []\n",
        "relations = []\n",
        "passages = []\n",
        "for passage_id, dataset_info in enumerate(nano_dataset):\n",
        "    passage, triplets = dataset_info[\"passage\"], dataset_info[\"triplets\"]\n",
        "    passages.append(passage)\n",
        "    for triplet in triplets:\n",
        "        if triplet[0] not in entities:\n",
        "            entities.append(triplet[0])\n",
        "        if triplet[2] not in entities:\n",
        "            entities.append(triplet[2])\n",
        "        relation = \" \".join(triplet)\n",
        "        if relation not in relations:\n",
        "            relations.append(relation)\n",
        "            entityid_2_relationids[entities.index(triplet[0])].append(\n",
        "                len(relations) - 1\n",
        "            )\n",
        "            entityid_2_relationids[entities.index(triplet[2])].append(\n",
        "                len(relations) - 1\n",
        "            )\n",
        "        relationid_2_passageids[relations.index(relation)].append(passage_id)"
      ]
    },
    {
      "cell_type": "markdown",
      "metadata": {
        "collapsed": false,
        "id": "XXfhMBohOcVU"
      },
      "source": [
        "### Data Insertion\n",
        "\n",
        "Create Milvus collections for entity, relation, and passage. We create three separate Milvus collections, each optimized for different types of retrieval:\n",
        "\n",
        "1. **Entity Collection**: Stores vector embeddings of entity names and descriptions\n",
        "   - **Purpose**: Enables entity-centric queries like \"find entities similar to 'Euler'\"\n",
        "   - **Search pattern**: Direct semantic similarity to query entities\n",
        "\n",
        "2. **Relationship Collection**: Stores vector embeddings of complete relationship sentences  \n",
        "   - **Purpose**: Captures semantic patterns in relationships that match query intent\n",
        "   - **Search pattern**: Finds relationships semantically similar to the entire query\n",
        "\n",
        "3. **Passage Collection**: Stores vector embeddings of original text passages\n",
        "   - **Purpose**: Provides comparison baseline and detailed context for final answers\n",
        "   - **Search pattern**: Traditional RAG-style document retrieval\n",
        "\n",
        "**Why Three Collections?** This separation allows for **multi-modal retrieval**:\n",
        "- If a query mentions specific entities, we retrieve through the entity collection\n",
        "- If a query describes relationships or actions, we retrieve through the relationship collection  \n",
        "- We can combine results from both paths and compare against traditional passage retrieval\n",
        "\n",
        "**Embedding Consistency**: All collections use the same embedding model to ensure compatibility during similarity searches and result merging."
      ]
    },
    {
      "cell_type": "code",
      "execution_count": null,
      "metadata": {
        "jupyter": {
          "outputs_hidden": false
        },
        "pycharm": {
          "name": "#%%\n"
        },
        "id": "AdhPn94eOcVU"
      },
      "outputs": [],
      "source": [
        "embedding_dim = len(embedding_model.embed_query(\"foo\"))\n",
        "\n",
        "\n",
        "def create_milvus_collection(collection_name: str):\n",
        "    \"\"\"\n",
        "    Create a new Milvus collection with specified configuration.\n",
        "\n",
        "    This function creates a new Milvus collection for storing vector embeddings.\n",
        "    If a collection with the same name already exists, it will be dropped first\n",
        "    to ensure a clean state.\n",
        "\n",
        "    Args:\n",
        "        collection_name (str): The name of the collection to create.\n",
        "    \"\"\"\n",
        "    if milvus_client.has_collection(collection_name=collection_name):\n",
        "        milvus_client.drop_collection(collection_name=collection_name)\n",
        "    milvus_client.create_collection(\n",
        "        collection_name=collection_name,\n",
        "        dimension=embedding_dim,\n",
        "        consistency_level=\"Strong\",\n",
        "    )\n",
        "\n",
        "\n",
        "entity_col_name = \"entity_collection\"\n",
        "relation_col_name = \"relation_collection\"\n",
        "passage_col_name = \"passage_collection\"\n",
        "create_milvus_collection(entity_col_name)\n",
        "create_milvus_collection(relation_col_name)\n",
        "create_milvus_collection(passage_col_name)"
      ]
    },
    {
      "cell_type": "markdown",
      "metadata": {
        "collapsed": false,
        "id": "e_vlzhx5OcVU"
      },
      "source": [
        "Insert the data with their metadata information into Milvus collections, including entity, relation, and passage collections. The metadata information includes the passage id and the adjacency entity or relation id."
      ]
    },
    {
      "cell_type": "code",
      "execution_count": null,
      "metadata": {
        "jupyter": {
          "outputs_hidden": false
        },
        "pycharm": {
          "name": "#%%\n"
        },
        "id": "ATG8uFbsOcVU",
        "outputId": "0d700088-bd01-4acd-8e16-4e045c5eb8f1"
      },
      "outputs": [
        {
          "name": "stderr",
          "output_type": "stream",
          "text": [
            "Inserting: 100%|███████████████████████████████████| 1/1 [00:00<00:00,  1.02it/s]\n",
            "Inserting: 100%|███████████████████████████████████| 1/1 [00:00<00:00,  1.39it/s]\n",
            "Inserting: 100%|███████████████████████████████████| 1/1 [00:00<00:00,  2.28it/s]\n"
          ]
        }
      ],
      "source": [
        "def milvus_insert(\n",
        "    collection_name: str,\n",
        "    text_list: list[str],\n",
        "):\n",
        "    \"\"\"\n",
        "    Insert text data with embeddings into a Milvus collection in batches.\n",
        "\n",
        "    This function processes a list of text strings, generates embeddings for them,\n",
        "    and inserts the data into the specified Milvus collection in batches for\n",
        "    efficient processing.\n",
        "\n",
        "    Args:\n",
        "        collection_name (str): The name of the Milvus collection to insert data into.\n",
        "        text_list (list[str]): A list of text strings to be embedded and inserted.\n",
        "    \"\"\"\n",
        "    batch_size = 512\n",
        "    for row_id in tqdm(range(0, len(text_list), batch_size), desc=\"Inserting\"):\n",
        "        batch_texts = text_list[row_id : row_id + batch_size]\n",
        "        batch_embeddings = embedding_model.embed_documents(batch_texts)\n",
        "\n",
        "        batch_ids = [row_id + j for j in range(len(batch_texts))]\n",
        "        batch_data = [\n",
        "            {\n",
        "                \"id\": id_,\n",
        "                \"text\": text,\n",
        "                \"vector\": vector,\n",
        "            }\n",
        "            for id_, text, vector in zip(batch_ids, batch_texts, batch_embeddings)\n",
        "        ]\n",
        "        milvus_client.insert(\n",
        "            collection_name=collection_name,\n",
        "            data=batch_data,\n",
        "        )\n",
        "\n",
        "\n",
        "milvus_insert(\n",
        "    collection_name=relation_col_name,\n",
        "    text_list=relations,\n",
        ")\n",
        "\n",
        "milvus_insert(\n",
        "    collection_name=entity_col_name,\n",
        "    text_list=entities,\n",
        ")\n",
        "\n",
        "milvus_insert(\n",
        "    collection_name=passage_col_name,\n",
        "    text_list=passages,\n",
        ")"
      ]
    },
    {
      "cell_type": "markdown",
      "metadata": {
        "collapsed": false,
        "id": "DqEeTSGsOcVV"
      },
      "source": [
        "## Online Querying\n",
        "\n",
        "### Understanding the Query Processing Pipeline\n",
        "\n",
        "The querying phase implements our core innovation: combining semantic vector search with graph traversal logic. This multi-stage process transforms a natural language question into relevant knowledge by following these steps:\n",
        "\n",
        "1. **Entity Identification**: Extract entities mentioned in the query using NER\n",
        "2. **Dual Retrieval**: Search both entity and relationship collections simultaneously  \n",
        "3. **Graph Expansion**: Use adjacency information to discover indirect connections\n",
        "4. **LLM Reranking**: Apply intelligent filtering to select the most relevant relationships\n",
        "5. **Answer Generation**: Retrieve final passages and generate the response\n",
        "\n",
        "### Similarity Retrieval\n",
        "\n",
        "We retrieve the topK similar entities and relations based on the input query from Milvus.\n",
        "\n",
        "When performing the entity retrieving, we should first extract the query entities from the query text using some specific method like NER (Named-entity recognition). For simplicity, we prepare the NER results here. If you want to change the query as your custom question, you have to change the corresponding query NER list.\n",
        "In practice, you can use any other model or approach to extract the entities from the query.\n",
        "\n",
        "### Dual-Path Retrieval Strategy\n",
        "\n",
        "Our approach performs two parallel similarity searches:\n",
        "\n",
        "**Path 1: Entity-Based Retrieval**\n",
        "- **Input**: Extracted entities from the query (using NER)  \n",
        "- **Process**: Find entities in our knowledge base similar to query entities\n",
        "- **Why NER?**: Many complex queries reference specific entities (\"Euler\", \"Bernoulli family\"). By identifying these explicitly, we can find direct matches and their associated relationships\n",
        "- **Example**: For \"What contribution did the son of Euler's teacher make?\", NER identifies \"Euler\" as a key entity\n",
        "\n",
        "**Path 2: Relationship-Based Retrieval**  \n",
        "- **Input**: The complete query text\n",
        "- **Process**: Find relationships that semantically match the query's intent\n",
        "- **Purpose**: Captures the relational patterns and question structure\n",
        "- **Example**: The query pattern \"contribution did the son of X's teacher make\" matches relationship patterns about family connections and contributions\n",
        "\n",
        "**Benefits of Dual Retrieval**:\n",
        "- **Comprehensive coverage**: Entity path catches direct mentions, relationship path catches semantic patterns\n",
        "- **Redundancy for robustness**: If one path misses relevant information, the other might capture it\n",
        "- **Different granularities**: Entities provide specific anchors, relationships provide structural patterns"
      ]
    },
    {
      "cell_type": "code",
      "execution_count": null,
      "metadata": {
        "jupyter": {
          "outputs_hidden": false
        },
        "pycharm": {
          "name": "#%%\n"
        },
        "id": "YpWugQJWOcVV"
      },
      "outputs": [],
      "source": [
        "query = \"What contribution did the son of Euler's teacher make?\"\n",
        "\n",
        "query_ner_list = [\"Euler\"]\n",
        "# query_ner_list = ner(query) # In practice, replace it with your custom NER approach\n",
        "\n",
        "query_ner_embeddings = [\n",
        "    embedding_model.embed_query(query_ner) for query_ner in query_ner_list\n",
        "]\n",
        "\n",
        "top_k = 3\n",
        "\n",
        "entity_search_res = milvus_client.search(\n",
        "    collection_name=entity_col_name,\n",
        "    data=query_ner_embeddings,\n",
        "    limit=top_k,\n",
        "    output_fields=[\"id\"],\n",
        ")\n",
        "\n",
        "query_embedding = embedding_model.embed_query(query)\n",
        "\n",
        "relation_search_res = milvus_client.search(\n",
        "    collection_name=relation_col_name,\n",
        "    data=[query_embedding],\n",
        "    limit=top_k,\n",
        "    output_fields=[\"id\"],\n",
        ")[0]"
      ]
    },
    {
      "cell_type": "markdown",
      "metadata": {
        "collapsed": false,
        "id": "B1K_EVjBOcVV"
      },
      "source": [
        "### Expand Subgraph\n",
        "\n",
        "We use the retrieved entities and relations to expand the subgraph and obtain the candidate relationships, and then merge them from the two ways. Here is a flow chart of the subgraph expansion process:\n",
        "![](https://github.com/NirDiamant/RAG_Techniques/blob/main/images/graph_rag_with_milvus_2.png?raw=1)"
      ]
    },
    {
      "cell_type": "markdown",
      "metadata": {
        "collapsed": false,
        "id": "myE8LDOrOcVV"
      },
      "source": [
        "Here we construct an adjacency matrix and use matrix multiplication to calculate the adjacency mapping information within a few degrees. In this way, we can quickly obtain information of any degree of expansion.\n",
        "\n",
        "### The Mathematics of Graph Expansion\n",
        "\n",
        "The subgraph expansion step is where our approach truly shines. Instead of storing an explicit graph database, we use **adjacency matrices** and **matrix multiplication** to efficiently compute multi-hop relationships. This mathematical approach offers several advantages:\n",
        "\n",
        "**Adjacency Matrix Construction**: We create a binary matrix where `entity_relation_adj[i][j] = 1` if entity `i` participates in relationship `j`, and 0 otherwise. This sparse representation captures the entire graph structure.\n",
        "\n",
        "**Multi-Degree Expansion via Matrix Powers**:\n",
        "- **1-degree expansion**: `entity_adj_1_degree = entity_relation_adj @ entity_relation_adj.T`\n",
        "- **2-degree expansion**: `entity_adj_2_degree = entity_adj_1_degree @ entity_adj_1_degree`  \n",
        "- **n-degree expansion**: Computed by raising the 1-degree matrix to the nth power\n",
        "\n",
        "**Why This Works**: Matrix multiplication naturally implements graph traversal. When we multiply adjacency matrices, we're computing paths through the graph:\n",
        "- 1-hop: Directly connected entities/relationships\n",
        "- 2-hop: Entities connected through one intermediate entity  \n",
        "- n-hop: Entities connected through (n-1) intermediate steps\n",
        "\n",
        "**Computational Efficiency**: Using sparse matrices and vectorized operations, we can expand subgraphs containing thousands of entities in milliseconds, making this approach highly scalable.\n",
        "\n",
        "**Dual Expansion Strategy**: We expand from both retrieved entities AND retrieved relationships, then merge the results. This ensures we capture relevant information regardless of whether the initial retrieval was more successful on the entity or relationship side."
      ]
    },
    {
      "cell_type": "code",
      "execution_count": null,
      "metadata": {
        "jupyter": {
          "outputs_hidden": false
        },
        "pycharm": {
          "name": "#%%\n"
        },
        "id": "Ttb2_kSIOcVV"
      },
      "outputs": [],
      "source": [
        "# Construct the adjacency matrix of entities and relations where the value of the adjacency matrix is 1 if an entity is related to a relation, otherwise 0.\n",
        "entity_relation_adj = np.zeros((len(entities), len(relations)))\n",
        "for entity_id, entity in enumerate(entities):\n",
        "    entity_relation_adj[entity_id, entityid_2_relationids[entity_id]] = 1\n",
        "\n",
        "# Convert the adjacency matrix to a sparse matrix for efficient computation.\n",
        "entity_relation_adj = csr_matrix(entity_relation_adj)\n",
        "\n",
        "# Use the entity-relation adjacency matrix to construct 1 degree entity-entity and relation-relation adjacency matrices.\n",
        "entity_adj_1_degree = entity_relation_adj @ entity_relation_adj.T\n",
        "relation_adj_1_degree = entity_relation_adj.T @ entity_relation_adj\n",
        "\n",
        "# Specify the target degree of the subgraph to be expanded.\n",
        "# 1 or 2 is enough for most cases.\n",
        "target_degree = 1\n",
        "\n",
        "# Compute the target degree adjacency matrices using matrix multiplication.\n",
        "entity_adj_target_degree = entity_adj_1_degree\n",
        "for _ in range(target_degree - 1):\n",
        "    entity_adj_target_degree = entity_adj_target_degree * entity_adj_1_degree\n",
        "relation_adj_target_degree = relation_adj_1_degree\n",
        "for _ in range(target_degree - 1):\n",
        "    relation_adj_target_degree = relation_adj_target_degree * relation_adj_1_degree\n",
        "\n",
        "entity_relation_adj_target_degree = entity_adj_target_degree @ entity_relation_adj"
      ]
    },
    {
      "cell_type": "markdown",
      "metadata": {
        "collapsed": false,
        "id": "eWQz-LZcOcVV"
      },
      "source": [
        "By taking the value from the target degree expansion matrix, we can easily expand the corresponding degree from the retrieved entity and relations to obtain all relations of the subgraph."
      ]
    },
    {
      "cell_type": "code",
      "execution_count": null,
      "metadata": {
        "pycharm": {
          "name": "#%%\n"
        },
        "id": "iDsO5S9iOcVV"
      },
      "outputs": [],
      "source": [
        "expanded_relations_from_relation = set()\n",
        "expanded_relations_from_entity = set()\n",
        "\n",
        "filtered_hit_relation_ids = [\n",
        "    relation_res[\"entity\"][\"id\"]\n",
        "    for relation_res in relation_search_res\n",
        "]\n",
        "for hit_relation_id in filtered_hit_relation_ids:\n",
        "    expanded_relations_from_relation.update(\n",
        "        relation_adj_target_degree[hit_relation_id].nonzero()[1].tolist()\n",
        "    )\n",
        "\n",
        "filtered_hit_entity_ids = [\n",
        "    one_entity_res[\"entity\"][\"id\"]\n",
        "    for one_entity_search_res in entity_search_res\n",
        "    for one_entity_res in one_entity_search_res\n",
        "]\n",
        "\n",
        "for filtered_hit_entity_id in filtered_hit_entity_ids:\n",
        "    expanded_relations_from_entity.update(\n",
        "        entity_relation_adj_target_degree[filtered_hit_entity_id].nonzero()[1].tolist()\n",
        "    )\n",
        "\n",
        "# Merge the expanded relations from the relation and entity retrieval ways.\n",
        "relation_candidate_ids = list(\n",
        "    expanded_relations_from_relation | expanded_relations_from_entity\n",
        ")\n",
        "\n",
        "relation_candidate_texts = [\n",
        "    relations[relation_id] for relation_id in relation_candidate_ids\n",
        "]"
      ]
    },
    {
      "cell_type": "markdown",
      "metadata": {
        "collapsed": false,
        "id": "Lhhk7d1UOcVV"
      },
      "source": [
        "We have get the candidate relationships by expanding the subgraph, which will be reranked by LLM in the next step."
      ]
    },
    {
      "cell_type": "markdown",
      "metadata": {
        "collapsed": false,
        "id": "shuww-ODOcVW"
      },
      "source": [
        "### LLM Reranking\n",
        "\n",
        "In this stage, we deploy the powerful self-attention mechanism of LLM to further filter and refine the candidate set of relationships. The subgraph expansion step provides us with many potentially relevant relationships, but not all of them are equally useful for answering our specific query. This is where **Large Language Models** excel - they can understand the semantic meaning of both the query and the candidate relationships, then intelligently select the most relevant ones.\n",
        "\n",
        "**Why LLM Reranking is Necessary**:\n",
        "- **Semantic understanding**: LLMs can understand complex query intentions that pure similarity search might miss\n",
        "- **Multi-hop reasoning**: LLMs can trace logical connections across multiple relationships\n",
        "- **Context awareness**: LLMs consider how relationships work together to answer the query\n",
        "- **Quality filtering**: LLMs can identify and prioritize the most informative relationships\n",
        "\n",
        "**Chain-of-Thought Prompting Strategy**:\n",
        "We use a structured approach that encourages the LLM to:\n",
        "1. **Analyze the query**: Break down what information is needed to answer the question\n",
        "2. **Identify key connections**: Determine which types of relationships would be most helpful  \n",
        "3. **Reason about relevance**: Explain why specific relationships are chosen\n",
        "4. **Rank by importance**: Order relationships by their utility for the final answer\n",
        "\n",
        "**One-Shot Learning Pattern**: We provide a concrete example of the reasoning process to guide the LLM's behavior. This example demonstrates how to identify core entities, trace multi-hop connections, and prioritize the most direct relationships.\n",
        "\n",
        "**JSON Output Format**: By requiring structured JSON output, we ensure reliable parsing and consistent results, making the system robust for production use.\n",
        "\n",
        "#### Define One-Shot Learning Examples\n",
        "\n",
        "First, we prepare the one-shot learning examples to guide the LLM's reasoning process:"
      ]
    },
    {
      "cell_type": "code",
      "execution_count": null,
      "metadata": {
        "jupyter": {
          "outputs_hidden": false
        },
        "pycharm": {
          "name": "#%%\n"
        },
        "id": "0aQM_bTeOcVW"
      },
      "outputs": [],
      "source": [
        "query_prompt_one_shot_input = \"\"\"I will provide you with a list of relationship descriptions. Your task is to select 3 relationships that may be useful to answer the given question. Please return a JSON object containing your thought process and a list of the selected relationships in order of their relevance.\n",
        "\n",
        "Question:\n",
        "When was the mother of the leader of the Third Crusade born?\n",
        "\n",
        "Relationship descriptions:\n",
        "[1] Eleanor was born in 1122.\n",
        "[2] Eleanor married King Louis VII of France.\n",
        "[3] Eleanor was the Duchess of Aquitaine.\n",
        "[4] Eleanor participated in the Second Crusade.\n",
        "[5] Eleanor had eight children.\n",
        "[6] Eleanor was married to Henry II of England.\n",
        "[7] Eleanor was the mother of Richard the Lionheart.\n",
        "[8] Richard the Lionheart was the King of England.\n",
        "[9] Henry II was the father of Richard the Lionheart.\n",
        "[10] Henry II was the King of England.\n",
        "[11] Richard the Lionheart led the Third Crusade.\n",
        "\n",
        "\"\"\"\n",
        "query_prompt_one_shot_output = \"\"\"{\"thought_process\": \"To answer the question about the birth of the mother of the leader of the Third Crusade, I first need to identify who led the Third Crusade and then determine who his mother was. After identifying his mother, I can look for the relationship that mentions her birth.\", \"useful_relationships\": [\"[11] Richard the Lionheart led the Third Crusade\", \"[7] Eleanor was the mother of Richard the Lionheart\", \"[1] Eleanor was born in 1122\"]}\"\"\""
      ]
    },
    {
      "cell_type": "markdown",
      "metadata": {
        "id": "EX9lozLoOcVW"
      },
      "source": [
        "#### Create Query Prompt Template\n",
        "\n",
        "Next, we define the template for formatting new queries:"
      ]
    },
    {
      "cell_type": "code",
      "execution_count": null,
      "metadata": {
        "id": "vzVIZmplOcVW"
      },
      "outputs": [],
      "source": [
        "query_prompt_template = \"\"\"Question:\n",
        "{question}\n",
        "\n",
        "Relationship descriptions:\n",
        "{relation_des_str}\n",
        "\n",
        "\"\"\""
      ]
    },
    {
      "cell_type": "markdown",
      "metadata": {
        "id": "_2X1KkOdOcVW"
      },
      "source": [
        "#### Implement the Reranking Function\n",
        "\n",
        "Now we implement the core reranking function that processes candidate relationships:"
      ]
    },
    {
      "cell_type": "code",
      "execution_count": null,
      "metadata": {
        "id": "laORExb4OcVW"
      },
      "outputs": [],
      "source": [
        "def rerank_relations(\n",
        "    query: str, relation_candidate_texts: list[str], relation_candidate_ids: list[str]\n",
        ") -> list[int]:\n",
        "    \"\"\"\n",
        "    Rerank candidate relations using LLM to select the most relevant ones for answering a query.\n",
        "\n",
        "    This function uses a large language model with Chain-of-Thought prompting to analyze\n",
        "    candidate relationships and select the most useful ones for answering the given query.\n",
        "    It employs a one-shot learning approach with a predefined example to guide the LLM's\n",
        "    reasoning process.\n",
        "\n",
        "    Args:\n",
        "        query (str): The input question that needs to be answered.\n",
        "        relation_candidate_texts (list[str]): List of candidate relationship descriptions.\n",
        "        relation_candidate_ids (list[str]): List of IDs corresponding to the candidate relations.\n",
        "\n",
        "    Returns:\n",
        "        list[int]: A list of relation IDs ranked by their relevance to the query.\n",
        "    \"\"\"\n",
        "    relation_des_str = \"\\n\".join(\n",
        "        map(\n",
        "            lambda item: f\"[{item[0]}] {item[1]}\",\n",
        "            zip(relation_candidate_ids, relation_candidate_texts),\n",
        "        )\n",
        "    ).strip()\n",
        "    rerank_prompts = ChatPromptTemplate.from_messages(\n",
        "        [\n",
        "            HumanMessage(query_prompt_one_shot_input),\n",
        "            AIMessage(query_prompt_one_shot_output),\n",
        "            HumanMessagePromptTemplate.from_template(query_prompt_template),\n",
        "        ]\n",
        "    )\n",
        "    rerank_chain = (\n",
        "        rerank_prompts\n",
        "        | llm.bind(response_format={\"type\": \"json_object\"})\n",
        "        | JsonOutputParser()\n",
        "    )\n",
        "    rerank_res = rerank_chain.invoke(\n",
        "        {\"question\": query, \"relation_des_str\": relation_des_str}\n",
        "    )\n",
        "    rerank_relation_ids = []\n",
        "    rerank_relation_lines = rerank_res[\"useful_relationships\"]\n",
        "    id_2_lines = {}\n",
        "    for line in rerank_relation_lines:\n",
        "        id_ = int(line[line.find(\"[\") + 1 : line.find(\"]\")])\n",
        "        id_2_lines[id_] = line.strip()\n",
        "        rerank_relation_ids.append(id_)\n",
        "    return rerank_relation_ids"
      ]
    },
    {
      "cell_type": "markdown",
      "metadata": {
        "id": "ylNspqQeOcVW"
      },
      "source": [
        "#### Execute the Reranking Process\n",
        "\n",
        "Finally, we apply the reranking function to our candidate relationships:"
      ]
    },
    {
      "cell_type": "code",
      "execution_count": null,
      "metadata": {
        "id": "dS8475pBOcVW"
      },
      "outputs": [],
      "source": [
        "rerank_relation_ids = rerank_relations(\n",
        "    query,\n",
        "    relation_candidate_texts=relation_candidate_texts,\n",
        "    relation_candidate_ids=relation_candidate_ids,\n",
        ")"
      ]
    },
    {
      "cell_type": "markdown",
      "metadata": {
        "collapsed": false,
        "id": "j_eypxhaOcVW"
      },
      "source": [
        "### Get Final Results\n",
        "\n",
        "We can get final retrieved passages from the reranked relationships. The final step demonstrates the power of our Graph RAG approach by comparing it directly with traditional RAG methods. This comparison reveals why graph-based reasoning is essential for complex multi-hop questions.\n",
        "\n",
        "**Our Method - Graph RAG Process**:\n",
        "1. Start with reranked relationships from LLM filtering\n",
        "2. Map relationships back to their source passages using `relationid_2_passageids`\n",
        "3. Collect unique passages while preserving relevance order\n",
        "4. Return the top-k most relevant passages for answer generation\n",
        "\n",
        "**Baseline - Naive RAG Process**:\n",
        "1. Directly search the passage collection using query embeddings\n",
        "2. Return top-k most semantically similar passages\n",
        "3. No consideration of entity relationships or graph structure\n",
        "\n",
        "**Key Differences**:\n",
        "- **Graph RAG**: Reasons through entity relationships to find relevant context\n",
        "- **Naive RAG**: Relies solely on surface-level semantic similarity between query and passages\n",
        "\n",
        "**Expected Outcome**: For multi-hop questions like \"What contribution did the son of Euler's teacher make?\", our Graph RAG approach should:\n",
        "- **Identify the reasoning chain**: Euler → Johann Bernoulli (teacher) → Daniel Bernoulli (son) → contributions\n",
        "- **Retrieve relevant passages**: Find passages about Daniel Bernoulli's contributions to fluid dynamics\n",
        "- **Provide accurate answers**: Generate responses based on the correct contextual information\n",
        "\n",
        "In contrast, naive RAG might retrieve passages about Euler directly or miss the multi-hop connection entirely, leading to incomplete or incorrect answers."
      ]
    },
    {
      "cell_type": "code",
      "execution_count": null,
      "metadata": {
        "jupyter": {
          "outputs_hidden": false
        },
        "pycharm": {
          "name": "#%%\n"
        },
        "id": "LirUnyIeOcVW"
      },
      "outputs": [],
      "source": [
        "final_top_k = 2\n",
        "\n",
        "final_passages = []\n",
        "final_passage_ids = []\n",
        "for relation_id in rerank_relation_ids:\n",
        "    for passage_id in relationid_2_passageids[relation_id]:\n",
        "        if passage_id not in final_passage_ids:\n",
        "            final_passage_ids.append(passage_id)\n",
        "            final_passages.append(passages[passage_id])\n",
        "passages_from_our_method = final_passages[:final_top_k]"
      ]
    },
    {
      "cell_type": "markdown",
      "metadata": {
        "collapsed": false,
        "id": "Rzdv_f55OcVW"
      },
      "source": [
        "\n",
        "We can compare the results with the naive RAG method, which retrieves the topK passages based on the query embedding directly from the passage collection."
      ]
    },
    {
      "cell_type": "code",
      "execution_count": null,
      "metadata": {
        "jupyter": {
          "outputs_hidden": false
        },
        "pycharm": {
          "name": "#%%\n"
        },
        "id": "ObotRDIBOcVa",
        "outputId": "5466b236-442a-4c67-99c3-49c7db436af3"
      },
      "outputs": [
        {
          "name": "stdout",
          "output_type": "stream",
          "text": [
            "Passages retrieved from naive RAG: \n",
            "['Leonhard Euler (1707–1783) was one of the greatest mathematicians of all time, and his relationship with the Bernoulli family was significant. Euler was born in Basel and was a student of Johann Bernoulli, who recognized his exceptional talent and mentored him in mathematics. Johann Bernoulli’s influence on Euler was profound, and Euler later expanded upon many of the ideas and methods he learned from the Bernoullis.', 'Johann Bernoulli (1667–1748): Johann, Jakob’s younger brother, was also a major figure in the development of calculus. He worked on infinitesimal calculus and was instrumental in spreading the ideas of Leibniz across Europe. Johann also contributed to the calculus of variations and was known for his work on the brachistochrone problem, which is the curve of fastest descent between two points.']\n",
            "\n",
            "Passages retrieved from our method: \n",
            "['Leonhard Euler (1707–1783) was one of the greatest mathematicians of all time, and his relationship with the Bernoulli family was significant. Euler was born in Basel and was a student of Johann Bernoulli, who recognized his exceptional talent and mentored him in mathematics. Johann Bernoulli’s influence on Euler was profound, and Euler later expanded upon many of the ideas and methods he learned from the Bernoullis.', 'Daniel Bernoulli (1700–1782): The son of Johann Bernoulli, Daniel made major contributions to fluid dynamics, probability, and statistics. He is most famous for Bernoulli’s principle, which describes the behavior of fluid flow and is fundamental to the understanding of aerodynamics.']\n",
            "\n",
            "\n",
            "Answer from naive RAG: I don't know. The retrieved context does not provide information about the contributions made by the son of Euler's teacher.\n",
            "\n",
            "Answer from our method: The son of Euler's teacher, Daniel Bernoulli, made major contributions to fluid dynamics, probability, and statistics. He is most famous for Bernoulli’s principle, which describes the behavior of fluid flow and is fundamental to the understanding of aerodynamics.\n"
          ]
        }
      ],
      "source": [
        "naive_passage_res = milvus_client.search(\n",
        "    collection_name=passage_col_name,\n",
        "    data=[query_embedding],\n",
        "    limit=final_top_k,\n",
        "    output_fields=[\"text\"],\n",
        ")[0]\n",
        "passages_from_naive_rag = [res[\"entity\"][\"text\"] for res in naive_passage_res]\n",
        "\n",
        "print(\n",
        "    f\"Passages retrieved from naive RAG: \\n{passages_from_naive_rag}\\n\\n\"\n",
        "    f\"Passages retrieved from our method: \\n{passages_from_our_method}\\n\\n\"\n",
        ")\n",
        "\n",
        "\n",
        "prompt = ChatPromptTemplate.from_messages(\n",
        "    [\n",
        "        (\n",
        "            \"human\",\n",
        "            \"\"\"Use the following pieces of retrieved context to answer the question. If there is not enough information in the retrieved context to answer the question, just say that you don't know.\n",
        "Question: {question}\n",
        "Context: {context}\n",
        "Answer:\"\"\",\n",
        "        )\n",
        "    ]\n",
        ")\n",
        "\n",
        "rag_chain = prompt | llm | StrOutputParser()\n",
        "\n",
        "answer_from_naive_rag = rag_chain.invoke(\n",
        "    {\"question\": query, \"context\": \"\\n\".join(passages_from_naive_rag)}\n",
        ")\n",
        "answer_from_our_method = rag_chain.invoke(\n",
        "    {\"question\": query, \"context\": \"\\n\".join(passages_from_our_method)}\n",
        ")\n",
        "\n",
        "print(\n",
        "    f\"Answer from naive RAG: {answer_from_naive_rag}\\n\\nAnswer from our method: {answer_from_our_method}\"\n",
        ")"
      ]
    },
    {
      "cell_type": "markdown",
      "metadata": {
        "id": "aHDIx7QLOcVa"
      },
      "source": [
        "The results show that the retrieved passages from the vanilla RAG missed a ground-truth passage, which led to a wrong answer.\n",
        "\n",
        "The retrieved passages from our method are correct, and it helps to get an accurate answer to the question.\n",
        "\n",
        "### Key Insights and Learning Outcomes\n",
        "\n",
        "The comparison results clearly demonstrate the superiority of our Graph RAG approach for multi-hop reasoning tasks. Let's analyze what we've accomplished:\n",
        "\n",
        "**Performance Analysis**:\n",
        "- **Naive RAG Limitation**: Traditional similarity search fails because the query \"What contribution did the son of Euler's teacher make?\" doesn't have high semantic similarity to passages about Daniel Bernoulli's fluid dynamics contributions. The surface-level keywords don't match well.\n",
        "- **Graph RAG Success**: Our method successfully traces the logical chain: Query mentions \"Euler\" → Entity retrieval finds \"Leonhard Euler\" → Graph expansion discovers \"Johann Bernoulli was Euler's teacher\" → Further expansion finds \"Daniel Bernoulli was Johann's son\" → Relationship filtering identifies Daniel's contributions → Correct passages retrieved.\n",
        "\n",
        "**Methodological Innovations Demonstrated**:\n",
        "1. **Vector-only Graph RAG**: We achieved graph-level reasoning using only vector databases, eliminating architectural complexity\n",
        "2. **Multi-modal retrieval**: Combining entity-based and relationship-based search paths provided redundancy and improved coverage  \n",
        "3. **Mathematical graph expansion**: Sparse matrix operations enabled efficient multi-hop traversal at scale\n",
        "4. **LLM-powered filtering**: Chain-of-thought reasoning provided intelligent relationship selection beyond simple similarity\n",
        "\n",
        "**Practical Applications**:\n",
        "This approach excels in domains requiring complex reasoning:\n",
        "- **Knowledge bases**: Scientific literature, historical records, technical documentation\n",
        "- **Enterprise search**: Finding information across interconnected business entities and processes\n",
        "- **Question answering**: Academic research, legal document analysis, medical knowledge retrieval\n",
        "- **Content recommendation**: Understanding user intent through relationship networks\n",
        "\n",
        "**Scalability Considerations**:\n",
        "- **Vector database scaling**: Milvus can handle billions of vectors with distributed architecture\n",
        "- **Matrix computation efficiency**: Sparse matrix operations scale logarithmically with data size\n",
        "- **LLM inference optimization**: Reranking step can be parallelized and cached for repeated patterns\n",
        "\n",
        "The tutorial demonstrates that sophisticated reasoning capabilities can be achieved through thoughtful system design, even when using simpler infrastructure components. This balance of power and simplicity makes the approach highly practical for real-world deployments."
      ]
    },
    {
      "cell_type": "markdown",
      "metadata": {
        "id": "is_NaHv0OcVa"
      },
      "source": [
        "## Scale Your Graph RAG System with Fully-Managed Milvus\n",
        "\n",
        "While the example in this tutorial works well with a small dataset, implementing Graph RAG in production with large-scale data requires robust infrastructure. Milvus is a distributed vector database that scales to billions, making it a trustable choice for managing large-scale vector data. Managing a self-hosted Milvus cluster can become challenging in production. If your priority is developing business logic for your RAG applications, Zilliz Cloud offers a fully-managed Milvus service that handles all the operational complexity for you:\n",
        "\n",
        "![Zilliz Cloud Screenshot](https://github.com/NirDiamant/RAG_Techniques/blob/main/images/zilliz_screenshot.png?raw=1)\n",
        "\n",
        "- **Production-Ready**: Built-in high availability and security features essential for mission-critical AI applications\n",
        "- **10x Faster Performance**: Its proprietary Cardinal vector index engine provides 10x faster performance even compared to high-performance open-source Milvus.\n",
        "- **AutoIndex**: The AutoIndex feature saving the effort of index selection and parameter tuning.\n",
        "- **Lower Total Cost of Ownership (TCO)**: Focus on your application while we handle scaling, updates, and monitoring, and pay only for what you use with flexible pricing tiers, which leads to a lower TCO compared to managing a self-hosted Milvus cluster\n",
        "\n",
        "[**Try Zilliz Cloud for Free Today →**](https://cloud.zilliz.com/signup?utm_source=github&utm_medium=referral&utm_campaign=Nir-250512)"
      ]
    }
  ],
  "metadata": {
    "kernelspec": {
      "display_name": "py310",
      "language": "python",
      "name": "python3"
    },
    "language_info": {
      "codemirror_mode": {
        "name": "ipython",
        "version": 3
      },
      "file_extension": ".py",
      "mimetype": "text/x-python",
      "name": "python",
      "nbconvert_exporter": "python",
      "pygments_lexer": "ipython3",
      "version": "3.10.13"
    },
    "colab": {
      "provenance": []
    }
  },
  "nbformat": 4,
  "nbformat_minor": 0
}